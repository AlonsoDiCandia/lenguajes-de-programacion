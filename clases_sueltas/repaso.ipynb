{
 "cells": [
  {
   "attachments": {},
   "cell_type": "markdown",
   "metadata": {},
   "source": [
    "# Listas\n",
    "\n",
    "## insert"
   ]
  },
  {
   "cell_type": "code",
   "execution_count": 88,
   "metadata": {},
   "outputs": [
    {
     "name": "stdout",
     "output_type": "stream",
     "text": [
      "['apple', 'banana', 'orange', 'banana', 'cherry']\n"
     ]
    }
   ],
   "source": [
    "lista = ['apple', 'orange', 'banana', 'cherry']\n",
    "\n",
    "lista.insert(1, 'banana')\n",
    "\n",
    "print(lista)"
   ]
  },
  {
   "attachments": {},
   "cell_type": "markdown",
   "metadata": {},
   "source": [
    "## remove"
   ]
  },
  {
   "cell_type": "code",
   "execution_count": 89,
   "metadata": {},
   "outputs": [
    {
     "name": "stdout",
     "output_type": "stream",
     "text": [
      "['apple', 'banana', 'orange', 'banana', 'cherry']\n",
      "['apple', 'orange', 'banana', 'cherry']\n"
     ]
    }
   ],
   "source": [
    "print(lista)\n",
    "\n",
    "lista.remove('banana')\n",
    "\n",
    "print(lista)"
   ]
  },
  {
   "attachments": {},
   "cell_type": "markdown",
   "metadata": {},
   "source": [
    "## pop"
   ]
  },
  {
   "cell_type": "code",
   "execution_count": 90,
   "metadata": {},
   "outputs": [
    {
     "name": "stdout",
     "output_type": "stream",
     "text": [
      "apple\n"
     ]
    }
   ],
   "source": [
    "foo = lista.pop(0)\n",
    "print(foo)"
   ]
  },
  {
   "cell_type": "code",
   "execution_count": 91,
   "metadata": {},
   "outputs": [
    {
     "data": {
      "text/plain": [
       "'banana'"
      ]
     },
     "execution_count": 91,
     "metadata": {},
     "output_type": "execute_result"
    }
   ],
   "source": [
    "lista.pop(1)"
   ]
  },
  {
   "attachments": {},
   "cell_type": "markdown",
   "metadata": {},
   "source": [
    "## extend \n",
    "\n",
    "extiende una lista, es decir, puedo agregar al final de una lista, los elementos de otra lista"
   ]
  },
  {
   "cell_type": "code",
   "execution_count": 92,
   "metadata": {},
   "outputs": [
    {
     "name": "stdout",
     "output_type": "stream",
     "text": [
      "['orange', 'cherry']\n",
      "['tomate', 'acelga', 'morron']\n",
      "['orange', 'cherry', 'tomate', 'acelga', 'morron']\n"
     ]
    }
   ],
   "source": [
    "print(lista)\n",
    "\n",
    "lista2 = ['tomate', 'acelga', 'morron']\n",
    "\n",
    "print(lista2)\n",
    "\n",
    "lista.extend(lista2)\n",
    "\n",
    "print(lista)\n"
   ]
  },
  {
   "cell_type": "code",
   "execution_count": 97,
   "metadata": {},
   "outputs": [
    {
     "name": "stdout",
     "output_type": "stream",
     "text": [
      "['apple', 'orange', 'banana', 'cherry', 'tomate', 'acelga', 'morron']\n"
     ]
    }
   ],
   "source": [
    "lista = ['apple', 'orange', 'banana', 'cherry']\n",
    "lista2 = ['tomate', 'acelga', 'morron']\n",
    "\n",
    "nueva_lista = lista + lista2 # tambien podria guardar la nueva lista en la variable lista, pero es para dar mas ejemplos y codigo mas claro\n",
    "\n",
    "print(nueva_lista) "
   ]
  },
  {
   "attachments": {},
   "cell_type": "markdown",
   "metadata": {},
   "source": [
    "## index\n",
    "\n",
    "Nos devuelve la posicion de la primera ocurrencia que encuentre en la lista"
   ]
  },
  {
   "cell_type": "code",
   "execution_count": 98,
   "metadata": {},
   "outputs": [
    {
     "name": "stdout",
     "output_type": "stream",
     "text": [
      "['apple', 'orange', 'banana', 'cherry', 'banana']\n",
      "2\n"
     ]
    }
   ],
   "source": [
    "lista.append('banana')\n",
    "print(lista)\n",
    "index_to_search = lista.index('banana') \n",
    "print(index_to_search) "
   ]
  },
  {
   "attachments": {},
   "cell_type": "markdown",
   "metadata": {},
   "source": [
    "## clear\n",
    "\n",
    "Vacia la lista"
   ]
  },
  {
   "cell_type": "code",
   "execution_count": 96,
   "metadata": {},
   "outputs": [
    {
     "name": "stdout",
     "output_type": "stream",
     "text": [
      "['apple', 'orange', 'banana', 'cherry', 'banana', 'banana']\n",
      "[]\n"
     ]
    }
   ],
   "source": [
    "print(lista)\n",
    "lista.clear()\n",
    "print(lista)\n"
   ]
  },
  {
   "attachments": {},
   "cell_type": "markdown",
   "metadata": {},
   "source": [
    "## count\n",
    "\n",
    "Cuenta cuantas veces esta un elemento en la lista"
   ]
  },
  {
   "cell_type": "code",
   "execution_count": 101,
   "metadata": {},
   "outputs": [
    {
     "name": "stdout",
     "output_type": "stream",
     "text": [
      "2\n"
     ]
    }
   ],
   "source": [
    "lista = ['apple', 'orange', 'banana', 'banana', 'cherry']\n",
    "bananas = lista.count('banana')\n",
    "print(bananas)"
   ]
  },
  {
   "attachments": {},
   "cell_type": "markdown",
   "metadata": {},
   "source": [
    "## reverse\n",
    "\n",
    "Da vuelta la lista"
   ]
  },
  {
   "cell_type": "code",
   "execution_count": 102,
   "metadata": {},
   "outputs": [
    {
     "name": "stdout",
     "output_type": "stream",
     "text": [
      "['apple', 'orange', 'banana', 'banana', 'cherry']\n",
      "['cherry', 'banana', 'banana', 'orange', 'apple']\n"
     ]
    }
   ],
   "source": [
    "print(lista)\n",
    "lista.reverse()\n",
    "print(lista)"
   ]
  },
  {
   "cell_type": "code",
   "execution_count": 108,
   "metadata": {},
   "outputs": [
    {
     "data": {
      "text/plain": [
       "['apple', 'orange', 'banana', 'banana', 'cherry']"
      ]
     },
     "execution_count": 108,
     "metadata": {},
     "output_type": "execute_result"
    }
   ],
   "source": [
    "lista[::-1]"
   ]
  },
  {
   "attachments": {},
   "cell_type": "markdown",
   "metadata": {},
   "source": [
    "# Diccionarios"
   ]
  },
  {
   "cell_type": "code",
   "execution_count": 109,
   "metadata": {},
   "outputs": [],
   "source": [
    "import random\n",
    "\n",
    "cara = random.randint(1,6)\n",
    "\n",
    "dict1 = {}\n",
    "\n",
    "dict1[cara] = 1 "
   ]
  },
  {
   "cell_type": "code",
   "execution_count": 110,
   "metadata": {},
   "outputs": [
    {
     "name": "stdout",
     "output_type": "stream",
     "text": [
      "{6: 1}\n"
     ]
    }
   ],
   "source": [
    "print(dict1)"
   ]
  },
  {
   "attachments": {},
   "cell_type": "markdown",
   "metadata": {},
   "source": [
    "El siguiente ejemplo vamos a simular que lanzamos un dado muchas veces, en este caso 20"
   ]
  },
  {
   "attachments": {},
   "cell_type": "markdown",
   "metadata": {},
   "source": [
    "## range\n",
    "\n",
    "Tenemos 3 formas de usar range\n",
    "\n",
    "1.- range(n), donde ira desde 0 hasta n - 1\n",
    "\n",
    "2.- range(a,b) donde partira del valor de a hasta b - 1, con saltos de 1 en 1 \n",
    "\n",
    "3.- range(a,b,s) similar a la opcion 2 pero con saltos de s en s"
   ]
  },
  {
   "cell_type": "code",
   "execution_count": 112,
   "metadata": {},
   "outputs": [
    {
     "name": "stdout",
     "output_type": "stream",
     "text": [
      "{3: 4, 2: 7, 1: 4, 4: 1, 5: 2, 6: 2}\n"
     ]
    }
   ],
   "source": [
    "dado = {}\n",
    "for i in range(20):\n",
    "    cara = random.randint(1,6)\n",
    "    if cara in dado.keys():\n",
    "        dado[cara] += 1\n",
    "    else: \n",
    "        dado[cara] = 1\n",
    "print(dado)\n"
   ]
  },
  {
   "cell_type": "code",
   "execution_count": 114,
   "metadata": {},
   "outputs": [
    {
     "name": "stdout",
     "output_type": "stream",
     "text": [
      "[3, 2, 1, 4, 5, 6]\n",
      "[4, 7, 4, 1, 2, 2]\n"
     ]
    }
   ],
   "source": [
    "x = list(dado.keys())\n",
    "print(x)\n",
    "\n",
    "y = list(dado.values())\n",
    "print(y)"
   ]
  },
  {
   "cell_type": "code",
   "execution_count": 116,
   "metadata": {},
   "outputs": [
    {
     "name": "stdout",
     "output_type": "stream",
     "text": [
      "{5: 10, 2: 8, 4: 3, 6: 12, 3: 8, 1: 9}\n",
      "[5, 2, 4, 6, 3, 1]\n",
      "['5', '2', '4', '6', '3', '1']\n",
      "[10, 8, 3, 12, 8, 9]\n"
     ]
    },
    {
     "data": {
      "text/plain": [
       "<BarContainer object of 6 artists>"
      ]
     },
     "execution_count": 116,
     "metadata": {},
     "output_type": "execute_result"
    },
    {
     "data": {
      "image/png": "[encoded data removed]",
      "text/plain": [
       "<Figure size 640x480 with 1 Axes>"
      ]
     },
     "metadata": {},
     "output_type": "display_data"
    }
   ],
   "source": [
    "from matplotlib import pyplot as plt\n",
    "\n",
    "dado = {}\n",
    "for i in range(50):\n",
    "    cara = random.randint(1,6)\n",
    "    if cara in dado.keys():\n",
    "        dado[cara] += 1\n",
    "    else: \n",
    "        dado[cara] = 1\n",
    "print(dado)\n",
    "\n",
    "x = list(dado.keys())\n",
    "x_s = [str(z) for z in x]\n",
    "print(x)\n",
    "print(x_s)\n",
    "\n",
    "y = list(dado.values())\n",
    "print(y)\n",
    "\n",
    "plt.figure(1)\n",
    "plt.bar(x,y)"
   ]
  },
  {
   "cell_type": "code",
   "execution_count": 117,
   "metadata": {},
   "outputs": [
    {
     "data": {
      "text/plain": [
       "<BarContainer object of 6 artists>"
      ]
     },
     "execution_count": 117,
     "metadata": {},
     "output_type": "execute_result"
    },
    {
     "data": {
      "image/png": "[encoded data removed]",
      "text/plain": [
       "<Figure size 640x480 with 1 Axes>"
      ]
     },
     "metadata": {},
     "output_type": "display_data"
    }
   ],
   "source": [
    "plt.figure(2)\n",
    "plt.bar(x_s,y)"
   ]
  },
  {
   "attachments": {},
   "cell_type": "markdown",
   "metadata": {},
   "source": [
    "## items()\n",
    "\n",
    "Me devuelve en forma conjunta llave y valor "
   ]
  },
  {
   "cell_type": "code",
   "execution_count": 118,
   "metadata": {},
   "outputs": [
    {
     "name": "stdout",
     "output_type": "stream",
     "text": [
      "La llave es: 5 y el valor es: 10\n",
      "La llave es: 2 y el valor es: 8\n",
      "La llave es: 4 y el valor es: 3\n",
      "La llave es: 6 y el valor es: 12\n",
      "La llave es: 3 y el valor es: 8\n",
      "La llave es: 1 y el valor es: 9\n"
     ]
    }
   ],
   "source": [
    "for key, value in dado.items():\n",
    "    print(f'La llave es: {key} y el valor es: {value}')"
   ]
  },
  {
   "attachments": {},
   "cell_type": "markdown",
   "metadata": {},
   "source": [
    "# Map y lambda THE BEST COMBINATION!!\n"
   ]
  },
  {
   "cell_type": "code",
   "execution_count": null,
   "metadata": {},
   "outputs": [],
   "source": []
  },
  {
   "cell_type": "code",
   "execution_count": 127,
   "metadata": {},
   "outputs": [
    {
     "name": "stdout",
     "output_type": "stream",
     "text": [
      "[1, 2, 3, 4, 5, 6, 7, 8, 9, 10, 11, 12, 13, 14, 15, 16, 17, 18, 19, 20, 21, 22, 23, 24, 25, 26, 27, 28, 29, 30, 31, 32, 33, 34, 35, 36, 37, 38, 39, 40, 41, 42, 43, 44, 45, 46, 47, 48, 49, 50, 51, 52, 53, 54, 55, 56, 57, 58, 59, 60, 61, 62, 63, 64, 65, 66, 67, 68, 69, 70, 71, 72, 73, 74, 75, 76, 77]\n",
      "[1, 4, 3, 16, 5, 36, 7, 64, 9, 100, 11, 144, 13, 196, 15, 256, 17, 324, 19, 400, 21, 484, 23, 576, 25, 676, 27, 784, 29, 900, 31, 1024, 33, 1156, 35, 1296, 37, 1444, 39, 1600, 41, 1764, 43, 1936, 45, 2116, 47, 2304, 49, 2500, 51, 2704, 53, 2916, 55, 3136, 57, 3364, 59, 3600, 61, 3844, 63, 4096, 65, 4356, 67, 4624, 69, 4900, 71, 5184, 73, 5476, 75, 5776, 77]\n"
     ]
    }
   ],
   "source": [
    "lista = list(range(1,78))\n",
    "print(lista)\n",
    "\n",
    "cuadrados = list(map(lambda i: i ** 2 if i % 2 == 0 else i , lista))\n",
    "\n",
    "print(cuadrados)"
   ]
  },
  {
   "attachments": {},
   "cell_type": "markdown",
   "metadata": {},
   "source": [
    "# Funciones"
   ]
  },
  {
   "cell_type": "code",
   "execution_count": 128,
   "metadata": {},
   "outputs": [
    {
     "name": "stdout",
     "output_type": "stream",
     "text": [
      "10\n"
     ]
    }
   ],
   "source": [
    "def sum7(x):\n",
    "    return x + 7\n",
    "\n",
    "foo = 3\n",
    "bar = sum7(foo)\n",
    "print(bar)"
   ]
  }
 ],
 "metadata": {
  "kernelspec": {
   "display_name": "Python 3",
   "language": "python",
   "name": "python3"
  },
  "language_info": {
   "codemirror_mode": {
    "name": "ipython",
    "version": 3
   },
   "file_extension": ".py",
   "mimetype": "text/x-python",
   "name": "python",
   "nbconvert_exporter": "python",
   "pygments_lexer": "ipython3",
   "version": "3.9.6"
  },
  "orig_nbformat": 4
 },
 "nbformat": 4,
 "nbformat_minor": 2
}
