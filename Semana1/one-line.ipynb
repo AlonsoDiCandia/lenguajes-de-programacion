{
 "cells": [
  {
   "cell_type": "markdown",
   "metadata": {},
   "source": [
    "# If/else one line\n",
    "\n",
    "![if-else](img/ifelseoneline.png)"
   ]
  },
  {
   "cell_type": "code",
   "execution_count": 2,
   "metadata": {},
   "outputs": [
    {
     "name": "stdout",
     "output_type": "stream",
     "text": [
      "Tenemos fruta ? True\n"
     ]
    }
   ],
   "source": [
    "fruta = 'Manzana'\n",
    "es_fruta = True if fruta == 'Manzana' else False\n",
    "print(f\"Tenemos fruta ? {es_fruta}\")"
   ]
  },
  {
   "cell_type": "markdown",
   "metadata": {},
   "source": [
    "# List comprehesion\n",
    "\n",
    "![list-comprehesion](img/forlistcompresion.png)"
   ]
  },
  {
   "cell_type": "code",
   "execution_count": 3,
   "metadata": {},
   "outputs": [
    {
     "name": "stdout",
     "output_type": "stream",
     "text": [
      "[1, 4, 9, 16, 25]\n"
     ]
    }
   ],
   "source": [
    "list1 = [1,2,3,4,5]\n",
    "\n",
    "list2 = [x ** 2 for x in list1]\n",
    "\n",
    "print(list2)"
   ]
  },
  {
   "cell_type": "markdown",
   "metadata": {},
   "source": [
    "# Ejercicios\n",
    "\n",
    "1. Cree un diccionario vacio\n",
    "2. Cree un loop que itere sobre los primeros 200 numeros comenzando desde el 1\n",
    "3. En cada iteracion del loop compruebe si los numeros anteriores son capaces de dividir de forma exacta al numero de la ireracion actual\n",
    "4. En caso de encontrar un numero que divida exactamente al numero evaluado genere con el numero divisor una llave del diccionario y el valor evaluado agreguelo a una lista que sera el valor que guardara la llave generada\n",
    "5. Imprima el diccionario\n",
    "\n",
    "Ejemplo con los 10 primeros numeros de como se ve el diccionario:\n",
    "```\n",
    "numeros = {\n",
    "    1: [2,3,4,5,6,7,8,9,10],\n",
    "    2: [4,6,8,10],\n",
    "    3: [6,9],\n",
    "    4: [8],\n",
    "    5: [10]\n",
    "}\n",
    "```\n",
    "PD: No importa en absoluto el tiempo de ejecucion para este ejercicio"
   ]
  },
  {
   "cell_type": "markdown",
   "metadata": {},
   "source": []
  }
 ],
 "metadata": {
  "kernelspec": {
   "display_name": "Python 3",
   "language": "python",
   "name": "python3"
  },
  "language_info": {
   "codemirror_mode": {
    "name": "ipython",
    "version": 3
   },
   "file_extension": ".py",
   "mimetype": "text/x-python",
   "name": "python",
   "nbconvert_exporter": "python",
   "pygments_lexer": "ipython3",
   "version": "3.10.13"
  }
 },
 "nbformat": 4,
 "nbformat_minor": 2
}
